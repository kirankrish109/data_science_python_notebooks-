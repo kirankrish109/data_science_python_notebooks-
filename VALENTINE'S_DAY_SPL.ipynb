{
 "cells": [
  {
   "cell_type": "code",
   "execution_count": 6,
   "metadata": {},
   "outputs": [
    {
     "name": "stdout",
     "output_type": "stream",
     "text": [
      "\u001b[31m\t\t\t wish you a \u001b[0m\n"
     ]
    },
    {
     "data": {
      "image/png": "[encoded data removed]",
      "text/plain": [
       "<Figure size 432x288 with 1 Axes>"
      ]
     },
     "metadata": {
      "needs_background": "light"
     },
     "output_type": "display_data"
    }
   ],
   "source": [
    "import warnings\n",
    "warnings.filterwarnings('ignore')\n",
    "from termcolor import colored\n",
    "%matplotlib inline\n",
    "import pylab\n",
    "import scipy\n",
    "x = scipy.linspace(-2,2,1500)\n",
    "y1 = scipy.sqrt(1-(abs(x)-1)**2)\n",
    "y2 = -3*scipy.sqrt(1-(abs(x)/2)**0.5)\n",
    "pylab.fill_between(x,y1,color='red')\n",
    "pylab.fill_between(x,y2,color='red')\n",
    "pylab.xlim([-2.5,2.5])\n",
    "pylab.text(0,-0.4,\"HAPPY\", fontsize=12,fontweight=\"bold\",\n",
    "          color='white',horizontalalignment='center')\n",
    "pylab.text(0,-0.8,\"VALENTINE'S\", fontsize=12,fontweight=\"bold\",\n",
    "          color='white',horizontalalignment='center')\n",
    "pylab.text(0,-1.2,\"DAY\", fontsize=12,fontweight=\"bold\",\n",
    "          color='white',horizontalalignment='center')\n",
    "print(colored(\"\\t\\t\\t wish you a \",\"red\"))\n",
    "\n"
   ]
  },
  {
   "cell_type": "code",
   "execution_count": 2,
   "metadata": {},
   "outputs": [
    {
     "name": "stderr",
     "output_type": "stream",
     "text": [
      "'pip3' is not recognized as an internal or external command,\n",
      "operable program or batch file.\n"
     ]
    }
   ],
   "source": [
    "!pip3 install termcolor"
   ]
  },
  {
   "cell_type": "code",
   "execution_count": 3,
   "metadata": {},
   "outputs": [
    {
     "name": "stdout",
     "output_type": "stream",
     "text": [
      "Collecting termcolor\n",
      "  Downloading https://files.pythonhosted.org/packages/8a/48/a76be51647d0eb9f10e2a4511bf3ffb8cc1e6b14e9e4fab46173aa79f981/termcolor-1.1.0.tar.gz\n",
      "Building wheels for collected packages: termcolor\n",
      "  Building wheel for termcolor (setup.py): started\n",
      "  Building wheel for termcolor (setup.py): finished with status 'done'\n",
      "  Created wheel for termcolor: filename=termcolor-1.1.0-cp37-none-any.whl size=4835 sha256=260ba118b45f24e778592cafaf83b1c31a79795337b88709365e6548ca6571f7\n",
      "  Stored in directory: C:\\Users\\kiran krish\\AppData\\Local\\pip\\Cache\\wheels\\7c\\06\\54\\bc84598ba1daf8f970247f550b175aaaee85f68b4b0c5ab2c6\n",
      "Successfully built termcolor\n",
      "Installing collected packages: termcolor\n",
      "Successfully installed termcolor-1.1.0\n"
     ]
    }
   ],
   "source": [
    "!pip install termcolor"
   ]
  },
  {
   "cell_type": "code",
   "execution_count": null,
   "metadata": {},
   "outputs": [],
   "source": []
  }
 ],
 "metadata": {
  "kernelspec": {
   "display_name": "Python 3",
   "language": "python",
   "name": "python3"
  },
  "language_info": {
   "codemirror_mode": {
    "name": "ipython",
    "version": 3
   },
   "file_extension": ".py",
   "mimetype": "text/x-python",
   "name": "python",
   "nbconvert_exporter": "python",
   "pygments_lexer": "ipython3",
   "version": "3.7.4"
  }
 },
 "nbformat": 4,
 "nbformat_minor": 2
}
